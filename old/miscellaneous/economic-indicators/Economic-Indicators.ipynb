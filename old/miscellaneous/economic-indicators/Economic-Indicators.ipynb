{
 "cells": [
  {
   "cell_type": "code",
   "execution_count": 5,
   "metadata": {},
   "outputs": [],
   "source": [
    "import warnings \n",
    "import pandas_datareader.data as web\n",
    "# ignore all deprecation warnings\n",
    "warnings.simplefilter(\"ignore\")\n",
    "\n",
    "key = \"LFPS9ZSO4XDKR7JU\""
   ]
  },
  {
   "cell_type": "markdown",
   "metadata": {},
   "source": [
    "## Economic Environment\n",
    "Provide volatility constraints on predictions."
   ]
  },
  {
   "cell_type": "code",
   "execution_count": 6,
   "metadata": {},
   "outputs": [],
   "source": [
    "import os\n",
    "import pandas_datareader.data as web\n",
    "f = web.datareader('ticker=')\n",
    "# Unemployment Rate (employment data)\n",
    "unemployment_rate = web.DataReader('', 'econdb')\n",
    "\n",
    "# Core Consumer Price Index (economic data)\n",
    "CPI = web.DataReader('', 'econdb')\n",
    "\n",
    "# Core Producer Prices (economic data)\n",
    "PPI = web.DataReader('', 'econdb')\n",
    "\n",
    "# Oil Prices (economic data)\n",
    "\n",
    "# Consumer Confidence Index (consumer data)\n",
    "sentiment = web.DataReader('', 'econdb')\n",
    "\n",
    "\n",
    "# Case-Shiller Home Price Index (housing data)\n",
    "\n",
    "# US Treasuries by Foreign Central Banks (foreign data)\n"
   ]
  },
  {
   "cell_type": "code",
   "execution_count": null,
   "metadata": {},
   "outputs": [],
   "source": []
  }
 ],
 "metadata": {
  "kernelspec": {
   "display_name": "Python 3",
   "language": "python",
   "name": "python3"
  },
  "language_info": {
   "codemirror_mode": {
    "name": "ipython",
    "version": 3
   },
   "file_extension": ".py",
   "mimetype": "text/x-python",
   "name": "python",
   "nbconvert_exporter": "python",
   "pygments_lexer": "ipython3",
   "version": "3.8.2"
  }
 },
 "nbformat": 4,
 "nbformat_minor": 4
}
